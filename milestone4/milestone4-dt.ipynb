{
 "cells": [
  {
   "cell_type": "markdown",
   "metadata": {
    "application/vnd.databricks.v1+cell": {
     "cellMetadata": {
      "byteLimit": 2048000,
      "rowLimit": 10000
     },
     "inputWidgets": {},
     "nuid": "331049a7-010e-4cc3-82e0-f7bad549531c",
     "showTitle": false,
     "title": ""
    }
   },
   "source": [
    "#### Milestone 4 - Decision Tree"
   ]
  },
  {
   "cell_type": "code",
   "execution_count": 0,
   "metadata": {
    "application/vnd.databricks.v1+cell": {
     "cellMetadata": {
      "byteLimit": 2048000,
      "rowLimit": 10000
     },
     "inputWidgets": {},
     "nuid": "7add253c-6f92-4828-82b8-2ff9f9842038",
     "showTitle": false,
     "title": ""
    }
   },
   "outputs": [],
   "source": [
    "from pyspark.sql import SparkSession\n",
    "from pyspark.sql import functions as F\n",
    "from pyspark.sql.functions import lit\n",
    "from pyspark.sql.functions import col, isnan, count, when, isnull, size, split\n",
    "from pyspark.sql.types import StructType, StructField, IntegerType, StringType, LongType, FloatType, DateType\n",
    "from pyspark.sql.functions import col, regexp_replace\n",
    "from pyspark.ml.linalg import Vectors\n",
    "from pyspark.ml import Pipeline\n",
    "from pyspark.ml.feature import StringIndexer, VectorAssembler\n",
    "from pyspark.ml.classification import DecisionTreeClassifier,GBTClassifier,RandomForestClassifier\n",
    "from pyspark.ml.evaluation import MulticlassClassificationEvaluator"
   ]
  },
  {
   "cell_type": "code",
   "execution_count": 0,
   "metadata": {
    "application/vnd.databricks.v1+cell": {
     "cellMetadata": {
      "byteLimit": 2048000,
      "rowLimit": 10000
     },
     "inputWidgets": {},
     "nuid": "f1bc572f-09ce-481d-8f39-bf7a180bff06",
     "showTitle": false,
     "title": ""
    }
   },
   "outputs": [],
   "source": [
    "spark = SparkSession.builder.appName('final_project').getOrCreate()"
   ]
  },
  {
   "cell_type": "code",
   "execution_count": 0,
   "metadata": {
    "application/vnd.databricks.v1+cell": {
     "cellMetadata": {
      "byteLimit": 2048000,
      "rowLimit": 10000
     },
     "inputWidgets": {},
     "nuid": "85653bca-0543-4965-8bc8-8b0d03745179",
     "showTitle": false,
     "title": ""
    }
   },
   "outputs": [],
   "source": [
    "# # Put in your bucket and folder path without the csv file\n",
    "# BUCKET = 'gs://ds5460-tlee-spring2024/notebooks/jupyter//data/usa/combined_datasets/' \n",
    "\n",
    "# data_with_review = spark.read.csv(BUCKET + 'real-final-data.csv',inferSchema=True,header=True)\n",
    "# data_with_zero_review = spark.read.csv(BUCKET + 'target_column_with_zero_review.csv',inferSchema=True,header=True)"
   ]
  },
  {
   "cell_type": "code",
   "execution_count": 0,
   "metadata": {
    "application/vnd.databricks.v1+cell": {
     "cellMetadata": {
      "byteLimit": 2048000,
      "rowLimit": 10000
     },
     "inputWidgets": {},
     "nuid": "58bcb869-278c-4ea6-9902-1cdbd4bea17f",
     "showTitle": false,
     "title": ""
    }
   },
   "outputs": [
    {
     "output_type": "display_data",
     "data": {
      "text/html": [
       "<style scoped>\n",
       "  .table-result-container {\n",
       "    max-height: 300px;\n",
       "    overflow: auto;\n",
       "  }\n",
       "  table, th, td {\n",
       "    border: 1px solid black;\n",
       "    border-collapse: collapse;\n",
       "  }\n",
       "  th, td {\n",
       "    padding: 5px;\n",
       "  }\n",
       "  th {\n",
       "    text-align: left;\n",
       "  }\n",
       "</style><div class='table-result-container'><table class='table-result'><thead style='background-color: white'><tr><th>path</th><th>name</th><th>size</th><th>modificationTime</th></tr></thead><tbody><tr><td>dbfs:/mnt/bdbucket1/</td><td>bdbucket1/</td><td>0</td><td>0</td></tr></tbody></table></div>"
      ]
     },
     "metadata": {
      "application/vnd.databricks.v1+output": {
       "addedWidgets": {},
       "aggData": [],
       "aggError": "",
       "aggOverflow": false,
       "aggSchema": [],
       "aggSeriesLimitReached": false,
       "aggType": "",
       "arguments": {},
       "columnCustomDisplayInfos": {},
       "data": [
        [
         "dbfs:/mnt/bdbucket1/",
         "bdbucket1/",
         0,
         0
        ]
       ],
       "datasetInfos": [],
       "dbfsResultPath": null,
       "isJsonSchema": true,
       "metadata": {},
       "overflow": false,
       "plotOptions": {
        "customPlotOptions": {},
        "displayType": "table",
        "pivotAggregation": null,
        "pivotColumns": null,
        "xColumns": null,
        "yColumns": null
       },
       "removedWidgets": [],
       "schema": [
        {
         "metadata": "{}",
         "name": "path",
         "type": "\"string\""
        },
        {
         "metadata": "{}",
         "name": "name",
         "type": "\"string\""
        },
        {
         "metadata": "{}",
         "name": "size",
         "type": "\"long\""
        },
        {
         "metadata": "{}",
         "name": "modificationTime",
         "type": "\"long\""
        }
       ],
       "type": "table"
      }
     },
     "output_type": "display_data"
    }
   ],
   "source": [
    "display(dbutils.fs.ls(\"/mnt\"))"
   ]
  },
  {
   "cell_type": "code",
   "execution_count": 0,
   "metadata": {
    "application/vnd.databricks.v1+cell": {
     "cellMetadata": {
      "byteLimit": 2048000,
      "rowLimit": 10000
     },
     "inputWidgets": {},
     "nuid": "83b833c2-bd1e-4648-910a-1496aaa6d2b2",
     "showTitle": false,
     "title": ""
    }
   },
   "outputs": [],
   "source": [
    "data_with_review = spark.read.format(\"csv\").option(\"header\", \"true\").load(\"dbfs:/mnt/bdbucket1/real-final-data.csv\")\n",
    "data_with_zero_review = spark.read.format(\"csv\").option(\"header\", \"true\").load(\"dbfs:/mnt/bdbucket1/target_column_with_zero_review.csv\")"
   ]
  },
  {
   "cell_type": "code",
   "execution_count": 0,
   "metadata": {
    "application/vnd.databricks.v1+cell": {
     "cellMetadata": {
      "byteLimit": 2048000,
      "rowLimit": 10000
     },
     "inputWidgets": {},
     "nuid": "1af6f7ac-5fc3-4e93-a7f9-bb31d5553adc",
     "showTitle": false,
     "title": ""
    }
   },
   "outputs": [
    {
     "output_type": "execute_result",
     "data": {
      "text/plain": [
       "Row(host_total_listings_count='3.0', accommodates='8', num_bath='3.0', bedrooms='4.0', beds='6.0', price='500.0', amenities_count='14', essential_amenities='3', host_is_superhost='t', city='Broward County', room_type='Entire home/apt', full_time_host='f', host_verifications_clean='ep', target='Great')"
      ]
     },
     "execution_count": 7,
     "metadata": {},
     "output_type": "execute_result"
    }
   ],
   "source": [
    "# Double check the data was read in properly\n",
    "data_with_review.head()"
   ]
  },
  {
   "cell_type": "code",
   "execution_count": 0,
   "metadata": {
    "application/vnd.databricks.v1+cell": {
     "cellMetadata": {
      "byteLimit": 2048000,
      "rowLimit": 10000
     },
     "inputWidgets": {},
     "nuid": "15a485f7-cf14-4f49-ac2c-7a43be8e83b9",
     "showTitle": false,
     "title": ""
    }
   },
   "outputs": [
    {
     "output_type": "execute_result",
     "data": {
      "text/plain": [
       "Row(id='827736378366911479', host_id='475630606', host_since='2022-08-18', host_location='Unknown', host_is_superhost='f', host_listings_count='1.0', host_total_listings_count='3.0', host_has_profile_pic='t', host_identity_verified='t', neighborhood='Fort Lauderdale', latitude='26.09393643124416', longitude='-80.13759087771177', room_type='Entire home/apt', accommodates='2', num_bath='1.0', bedrooms='1.0', beds='1.0', price='222.0', number_of_reviews='0', review_scores_value=None, calculated_host_listings_count='1', city='Broward County', amenities_count='10', neighborhood_city='Fort Lauderdale Broward County', full_time_host='f', host_verifications_clean='p', essential_amenities='3')"
      ]
     },
     "execution_count": 8,
     "metadata": {},
     "output_type": "execute_result"
    }
   ],
   "source": [
    "# Double check the data was read in properly\n",
    "data_with_zero_review.head()"
   ]
  },
  {
   "cell_type": "code",
   "execution_count": 0,
   "metadata": {
    "application/vnd.databricks.v1+cell": {
     "cellMetadata": {
      "byteLimit": 2048000,
      "rowLimit": 10000
     },
     "inputWidgets": {},
     "nuid": "f1b57f7c-9124-41fd-b635-786950630c41",
     "showTitle": false,
     "title": ""
    }
   },
   "outputs": [],
   "source": [
    "# Drop columns that can't be used in the feature pipeline as not applicable to zero reviews\n",
    "data_with_zero_review = data_with_zero_review.drop('review_scores_value')\n",
    "data_with_zero_review = data_with_zero_review.drop('number_of_reviews')"
   ]
  },
  {
   "cell_type": "code",
   "execution_count": 0,
   "metadata": {
    "application/vnd.databricks.v1+cell": {
     "cellMetadata": {
      "byteLimit": 2048000,
      "rowLimit": 10000
     },
     "inputWidgets": {},
     "nuid": "feb82d38-f492-4953-8468-84e37aed515f",
     "showTitle": false,
     "title": ""
    }
   },
   "outputs": [
    {
     "output_type": "execute_result",
     "data": {
      "text/plain": [
       "['host_total_listings_count',\n",
       " 'accommodates',\n",
       " 'num_bath',\n",
       " 'bedrooms',\n",
       " 'beds',\n",
       " 'price',\n",
       " 'amenities_count',\n",
       " 'essential_amenities',\n",
       " 'host_is_superhost',\n",
       " 'city',\n",
       " 'room_type',\n",
       " 'full_time_host',\n",
       " 'host_verifications_clean',\n",
       " 'target']"
      ]
     },
     "execution_count": 10,
     "metadata": {},
     "output_type": "execute_result"
    }
   ],
   "source": [
    "# Double check the columns in data_with_review\n",
    "data_with_review.columns"
   ]
  },
  {
   "cell_type": "markdown",
   "metadata": {
    "application/vnd.databricks.v1+cell": {
     "cellMetadata": {
      "byteLimit": 2048000,
      "rowLimit": 10000
     },
     "inputWidgets": {},
     "nuid": "68520f27-7dfa-415e-b4cc-69bc15b0e47f",
     "showTitle": false,
     "title": ""
    }
   },
   "source": [
    "### Create the Feature Pipeline"
   ]
  },
  {
   "cell_type": "code",
   "execution_count": 0,
   "metadata": {
    "application/vnd.databricks.v1+cell": {
     "cellMetadata": {
      "byteLimit": 2048000,
      "rowLimit": 10000
     },
     "inputWidgets": {},
     "nuid": "f2265aaa-eb26-478a-ae61-8e4bb856cd11",
     "showTitle": false,
     "title": ""
    }
   },
   "outputs": [],
   "source": [
    "from pyspark.sql.functions import col\n",
    "from pyspark.sql.types import IntegerType, DoubleType\n",
    "\n",
    "# Assuming the most appropriate data types based on the feature names:\n",
    "conversion_map = {\n",
    "    'host_total_listings_count': IntegerType(),\n",
    "    'accommodates': IntegerType(),\n",
    "    'num_bath': DoubleType(),  # Using DoubleType in case there are half-baths represented as decimals\n",
    "    'bedrooms': IntegerType(),\n",
    "    'beds': IntegerType(),\n",
    "    'price': DoubleType(),  # Price could include decimal places for cents\n",
    "    'amenities_count': IntegerType(),\n",
    "    'essential_amenities': IntegerType()\n",
    "}\n",
    "\n",
    "# Convert string columns to numeric columns\n",
    "for column, data_type in conversion_map.items():\n",
    "    data_with_review = data_with_review.withColumn(column, col(column).cast(data_type))\n",
    "    data_with_zero_review = data_with_zero_review.withColumn(column, col(column).cast(data_type))"
   ]
  },
  {
   "cell_type": "code",
   "execution_count": 0,
   "metadata": {
    "application/vnd.databricks.v1+cell": {
     "cellMetadata": {
      "byteLimit": 2048000,
      "rowLimit": 10000
     },
     "inputWidgets": {},
     "nuid": "3543849c-2a58-4e4c-87cc-6e7e3072c678",
     "showTitle": false,
     "title": ""
    }
   },
   "outputs": [],
   "source": [
    "# List of string features to be indexed and the features that are already numeric\n",
    "stringFeatures = ['host_is_superhost', 'city', 'room_type', 'full_time_host', 'host_verifications_clean']\n",
    "\n",
    "numericFeatures = ['host_total_listings_count', 'accommodates', \n",
    "                   'num_bath','bedrooms', 'beds', 'price',\n",
    "                   'amenities_count', 'essential_amenities']\n",
    "\n",
    "# Create StringIndexer stages for the stringFeatures - call the numeric version as _indexed\n",
    "indexers = [StringIndexer(inputCol=column, outputCol=column+\"_indexed\", stringOrderType=\"alphabetAsc\").setHandleInvalid(\"skip\")\n",
    "            for column in stringFeatures]\n",
    "\n",
    "# Create a StringIndexer for the target column and naming it as target_label after converting it to numeric\n",
    "labelIndexer = StringIndexer(inputCol='target', outputCol='target_label').setHandleInvalid(\"skip\")\n",
    "\n",
    "# Create VectorAssembler stage for the features\n",
    "assemblerInputs = [column+\"_indexed\" for column in stringFeatures] + numericFeatures\n",
    "assembler = VectorAssembler(inputCols=assemblerInputs, outputCol=\"features\")\n",
    "\n",
    "# Create and run the pipeline with the target indexer added to pipeline\n",
    "pipeline = Pipeline(stages=indexers + [assembler, labelIndexer])\n",
    "\n",
    "# Fit the pipeline on the training data - which is all of data that has reviews\n",
    "pipelineModel = pipeline.fit(data_with_review)\n",
    "\n",
    "# Alternative code if we wanted to do the train/test split earlier\n",
    "# trainingDataTransformed = pipelineModel.transform(trainingData)\n",
    "# testDataTransformed = pipelineModel.transform(testData)\n",
    "\n",
    "# Apply the pipeline on the data_with_review - trainingDataTransformed seen below will have to go through a train/test split\n",
    "trainingDataTransformed = pipelineModel.transform(data_with_review)\n",
    "\n",
    "\n",
    "# To apply the pipeline on the data_with_zero_review, which is missing the target, we need to do the following:\n",
    "# Extracting the transformation stages from the fitted pipeline model\n",
    "# Excldue the LabelIndexer from final pipeline stage as we are applying on the prediction dataset\n",
    "transformationStages = pipelineModel.stages[:-1]\n",
    "\n",
    "# Manually apply each transformation stage to the data_with_zero_review\n",
    "transformedData = data_with_zero_review\n",
    "for stage in transformationStages:\n",
    "    transformedData = stage.transform(transformedData)\n",
    "\n",
    "# We now have dataWithZeroReviewTransformed which doesn't have the target_label column to see what is our final model predictions\n",
    "dataWithZeroReviewTransformed = transformedData"
   ]
  },
  {
   "cell_type": "markdown",
   "metadata": {
    "application/vnd.databricks.v1+cell": {
     "cellMetadata": {
      "byteLimit": 2048000,
      "rowLimit": 10000
     },
     "inputWidgets": {},
     "nuid": "d99c46d8-d581-4790-80c3-6fe7cd246bec",
     "showTitle": false,
     "title": ""
    }
   },
   "source": [
    "### Check if Feature Pipeline was done properly"
   ]
  },
  {
   "cell_type": "code",
   "execution_count": 0,
   "metadata": {
    "application/vnd.databricks.v1+cell": {
     "cellMetadata": {
      "byteLimit": 2048000,
      "rowLimit": 10000
     },
     "inputWidgets": {},
     "nuid": "e1a3d61b-3c57-4d44-9a61-5fceb69b6727",
     "showTitle": false,
     "title": ""
    }
   },
   "outputs": [
    {
     "output_type": "stream",
     "name": "stdout",
     "output_type": "stream",
     "text": [
      "root\n |-- host_total_listings_count: integer (nullable = true)\n |-- accommodates: integer (nullable = true)\n |-- num_bath: double (nullable = true)\n |-- bedrooms: integer (nullable = true)\n |-- beds: integer (nullable = true)\n |-- price: double (nullable = true)\n |-- amenities_count: integer (nullable = true)\n |-- essential_amenities: integer (nullable = true)\n |-- host_is_superhost: string (nullable = true)\n |-- city: string (nullable = true)\n |-- room_type: string (nullable = true)\n |-- full_time_host: string (nullable = true)\n |-- host_verifications_clean: string (nullable = true)\n |-- target: string (nullable = true)\n |-- host_is_superhost_indexed: double (nullable = false)\n |-- city_indexed: double (nullable = false)\n |-- room_type_indexed: double (nullable = false)\n |-- full_time_host_indexed: double (nullable = false)\n |-- host_verifications_clean_indexed: double (nullable = false)\n |-- features: vector (nullable = true)\n |-- target_label: double (nullable = false)\n\n"
     ]
    }
   ],
   "source": [
    "trainingDataTransformed.printSchema()"
   ]
  },
  {
   "cell_type": "code",
   "execution_count": 0,
   "metadata": {
    "application/vnd.databricks.v1+cell": {
     "cellMetadata": {
      "byteLimit": 2048000,
      "rowLimit": 10000
     },
     "inputWidgets": {},
     "nuid": "f09f3100-3706-4133-9bb6-d0f26580faaf",
     "showTitle": false,
     "title": ""
    }
   },
   "outputs": [
    {
     "output_type": "stream",
     "name": "stdout",
     "output_type": "stream",
     "text": [
      "root\n |-- id: string (nullable = true)\n |-- host_id: string (nullable = true)\n |-- host_since: string (nullable = true)\n |-- host_location: string (nullable = true)\n |-- host_is_superhost: string (nullable = true)\n |-- host_listings_count: string (nullable = true)\n |-- host_total_listings_count: integer (nullable = true)\n |-- host_has_profile_pic: string (nullable = true)\n |-- host_identity_verified: string (nullable = true)\n |-- neighborhood: string (nullable = true)\n |-- latitude: string (nullable = true)\n |-- longitude: string (nullable = true)\n |-- room_type: string (nullable = true)\n |-- accommodates: integer (nullable = true)\n |-- num_bath: double (nullable = true)\n |-- bedrooms: integer (nullable = true)\n |-- beds: integer (nullable = true)\n |-- price: double (nullable = true)\n |-- calculated_host_listings_count: string (nullable = true)\n |-- city: string (nullable = true)\n |-- amenities_count: integer (nullable = true)\n |-- neighborhood_city: string (nullable = true)\n |-- full_time_host: string (nullable = true)\n |-- host_verifications_clean: string (nullable = true)\n |-- essential_amenities: integer (nullable = true)\n |-- host_is_superhost_indexed: double (nullable = false)\n |-- city_indexed: double (nullable = false)\n |-- room_type_indexed: double (nullable = false)\n |-- full_time_host_indexed: double (nullable = false)\n |-- host_verifications_clean_indexed: double (nullable = false)\n |-- features: vector (nullable = true)\n\n"
     ]
    }
   ],
   "source": [
    "dataWithZeroReviewTransformed.printSchema()"
   ]
  },
  {
   "cell_type": "code",
   "execution_count": 0,
   "metadata": {
    "application/vnd.databricks.v1+cell": {
     "cellMetadata": {
      "byteLimit": 2048000,
      "rowLimit": 10000
     },
     "inputWidgets": {},
     "nuid": "de0214a1-a857-49f4-b38d-4bec39d59f3d",
     "showTitle": false,
     "title": ""
    }
   },
   "outputs": [
    {
     "output_type": "stream",
     "name": "stdout",
     "output_type": "stream",
     "text": [
      "+-------------------------+------------+--------+--------+----+-----+---------------+-------------------+-----------------+--------------+---------------+--------------+------------------------+------+-------------------------+------------+-----------------+----------------------+--------------------------------+--------------------------------------------------------+------------+\n|host_total_listings_count|accommodates|num_bath|bedrooms|beds|price|amenities_count|essential_amenities|host_is_superhost|city          |room_type      |full_time_host|host_verifications_clean|target|host_is_superhost_indexed|city_indexed|room_type_indexed|full_time_host_indexed|host_verifications_clean_indexed|features                                                |target_label|\n+-------------------------+------------+--------+--------+----+-----+---------------+-------------------+-----------------+--------------+---------------+--------------+------------------------+------+-------------------------+------------+-----------------+----------------------+--------------------------------+--------------------------------------------------------+------------+\n|3                        |8           |3.0     |4       |6   |500.0|14             |3                  |t                |Broward County|Entire home/apt|f             |ep                      |Great |1.0                      |1.0         |0.0              |0.0                   |1.0                             |[1.0,1.0,0.0,0.0,1.0,3.0,8.0,3.0,4.0,6.0,500.0,14.0,3.0]|0.0         |\n+-------------------------+------------+--------+--------+----+-----+---------------+-------------------+-----------------+--------------+---------------+--------------+------------------------+------+-------------------------+------------+-----------------+----------------------+--------------------------------+--------------------------------------------------------+------------+\nonly showing top 1 row\n\n"
     ]
    }
   ],
   "source": [
    "trainingDataTransformed.show(n=1, truncate=False)"
   ]
  },
  {
   "cell_type": "code",
   "execution_count": 0,
   "metadata": {
    "application/vnd.databricks.v1+cell": {
     "cellMetadata": {
      "byteLimit": 2048000,
      "rowLimit": 10000
     },
     "inputWidgets": {},
     "nuid": "4a47bca4-e966-4abd-b788-88ffcdb5185c",
     "showTitle": false,
     "title": ""
    }
   },
   "outputs": [
    {
     "output_type": "stream",
     "name": "stdout",
     "output_type": "stream",
     "text": [
      "+------------------------+--------------------------------+\n|host_verifications_clean|host_verifications_clean_indexed|\n+------------------------+--------------------------------+\n|                      ep|                             1.0|\n|                      pw|                             8.0|\n|                      ep|                             1.0|\n|                      ep|                             1.0|\n|                      ep|                             1.0|\n+------------------------+--------------------------------+\nonly showing top 5 rows\n\n+---------------+-----------------+\n|      room_type|room_type_indexed|\n+---------------+-----------------+\n|Entire home/apt|              0.0|\n|Entire home/apt|              0.0|\n|Entire home/apt|              0.0|\n|Entire home/apt|              0.0|\n|Entire home/apt|              0.0|\n|Entire home/apt|              0.0|\n|   Private room|              2.0|\n|   Private room|              2.0|\n|   Private room|              2.0|\n|   Private room|              2.0|\n+---------------+-----------------+\nonly showing top 10 rows\n\n"
     ]
    }
   ],
   "source": [
    "# Doing a quick check that the string indexer worked and converted the categorical values into an index\n",
    "trainingDataTransformed.select('host_verifications_clean', 'host_verifications_clean_indexed').show(5)\n",
    "\n",
    "trainingDataTransformed.select('room_type', 'room_type_indexed').show(10)"
   ]
  },
  {
   "cell_type": "code",
   "execution_count": 0,
   "metadata": {
    "application/vnd.databricks.v1+cell": {
     "cellMetadata": {
      "byteLimit": 2048000,
      "rowLimit": 10000
     },
     "inputWidgets": {},
     "nuid": "82723296-3850-40aa-adfa-69acf178c27e",
     "showTitle": false,
     "title": ""
    }
   },
   "outputs": [
    {
     "output_type": "stream",
     "name": "stdout",
     "output_type": "stream",
     "text": [
      "+-------+------------+\n| target|target_label|\n+-------+------------+\n|  Great|         0.0|\n|Average|         1.0|\n|Average|         1.0|\n|Average|         1.0|\n|  Great|         0.0|\n|Average|         1.0|\n|  Great|         0.0|\n|Average|         1.0|\n|Average|         1.0|\n|Average|         1.0|\n|  Great|         0.0|\n|Average|         1.0|\n|  Great|         0.0|\n|  Great|         0.0|\n|Average|         1.0|\n|Average|         1.0|\n|   Poor|         2.0|\n|  Great|         0.0|\n|  Great|         0.0|\n|Average|         1.0|\n+-------+------------+\nonly showing top 20 rows\n\n"
     ]
    }
   ],
   "source": [
    "# Checking that the target_label got created successfully\n",
    "trainingDataTransformed.select('target', 'target_label').show(20)"
   ]
  },
  {
   "cell_type": "code",
   "execution_count": 0,
   "metadata": {
    "application/vnd.databricks.v1+cell": {
     "cellMetadata": {
      "byteLimit": 2048000,
      "rowLimit": 10000
     },
     "inputWidgets": {},
     "nuid": "9dc3c74f-9c97-4898-9e14-368347746c5f",
     "showTitle": false,
     "title": ""
    }
   },
   "outputs": [
    {
     "output_type": "stream",
     "name": "stdout",
     "output_type": "stream",
     "text": [
      "+-----------------------------------------------------------+------------+\n|features                                                   |target_label|\n+-----------------------------------------------------------+------------+\n|[1.0,1.0,0.0,0.0,1.0,3.0,8.0,3.0,4.0,6.0,500.0,14.0,3.0]   |0.0         |\n|[0.0,1.0,0.0,0.0,8.0,12.0,6.0,2.0,2.0,4.0,186.0,22.0,4.0]  |1.0         |\n|[0.0,1.0,0.0,0.0,1.0,20.0,7.0,2.0,2.0,5.0,297.0,17.0,3.0]  |1.0         |\n|[0.0,1.0,0.0,0.0,1.0,5.0,4.0,1.0,1.0,2.0,162.0,69.0,5.0]   |1.0         |\n|[0.0,1.0,0.0,0.0,1.0,17.0,2.0,1.0,1.0,1.0,92.0,17.0,4.0]   |0.0         |\n|[1.0,1.0,0.0,0.0,1.0,1930.0,6.0,2.0,2.0,4.0,258.0,38.0,5.0]|1.0         |\n|[1.0,1.0,2.0,0.0,4.0,1.0,4.0,1.0,1.0,2.0,100.0,72.0,4.0]   |0.0         |\n|[0.0,1.0,2.0,0.0,8.0,19.0,4.0,1.0,1.0,2.0,189.0,60.0,5.0]  |1.0         |\n|[1.0,1.0,2.0,0.0,1.0,2.0,3.0,1.0,1.0,1.0,63.0,67.0,5.0]    |1.0         |\n|[0.0,1.0,2.0,0.0,1.0,13.0,2.0,1.0,1.0,1.0,127.0,51.0,5.0]  |1.0         |\n|[0.0,1.0,2.0,0.0,1.0,112.0,4.0,2.0,1.0,1.0,300.0,81.0,5.0] |0.0         |\n|[0.0,1.0,0.0,0.0,1.0,14.0,6.0,2.0,2.0,2.0,218.0,16.0,4.0]  |1.0         |\n|[0.0,1.0,0.0,0.0,1.0,2.0,4.0,1.0,2.0,3.0,155.0,52.0,5.0]   |0.0         |\n|[1.0,1.0,0.0,0.0,1.0,32.0,9.0,3.5,4.0,6.0,1764.0,57.0,5.0] |0.0         |\n|[1.0,1.0,0.0,0.0,1.0,10.0,2.0,1.0,1.0,1.0,91.0,52.0,5.0]   |1.0         |\n|[1.0,1.0,2.0,0.0,1.0,2.0,3.0,1.0,1.0,1.0,60.0,66.0,5.0]    |1.0         |\n|[0.0,1.0,0.0,0.0,1.0,292.0,6.0,1.0,2.0,3.0,313.0,24.0,4.0] |2.0         |\n|[1.0,1.0,0.0,0.0,1.0,72.0,2.0,1.0,1.0,1.0,101.0,54.0,5.0]  |0.0         |\n|[1.0,1.0,0.0,0.0,1.0,12.0,4.0,2.0,2.0,2.0,236.0,63.0,5.0]  |0.0         |\n|[1.0,1.0,0.0,0.0,1.0,23.0,6.0,3.0,3.0,3.0,440.0,52.0,5.0]  |1.0         |\n+-----------------------------------------------------------+------------+\nonly showing top 20 rows\n\n"
     ]
    }
   ],
   "source": [
    "# Examine all of the features with a particular target_label\n",
    "trainingDataTransformed.select(\"features\", \"target_label\").show(truncate=False)"
   ]
  },
  {
   "cell_type": "code",
   "execution_count": 0,
   "metadata": {
    "application/vnd.databricks.v1+cell": {
     "cellMetadata": {
      "byteLimit": 2048000,
      "rowLimit": 10000
     },
     "inputWidgets": {},
     "nuid": "094ad945-3787-41bc-b13e-ffc9ea4ecf71",
     "showTitle": false,
     "title": ""
    }
   },
   "outputs": [
    {
     "output_type": "stream",
     "name": "stdout",
     "output_type": "stream",
     "text": [
      "+--------------------+\n|            features|\n+--------------------+\n|[0.0,1.0,0.0,0.0,...|\n|[0.0,1.0,2.0,0.0,...|\n|[0.0,1.0,0.0,0.0,...|\n|[0.0,1.0,2.0,0.0,...|\n|[1.0,1.0,0.0,0.0,...|\n+--------------------+\nonly showing top 5 rows\n\n"
     ]
    }
   ],
   "source": [
    "# Examine if the dataWithZeroReviewTransformed features look like it was done correctly\n",
    "dataWithZeroReviewTransformed.select('features').show(5)"
   ]
  },
  {
   "cell_type": "code",
   "execution_count": 0,
   "metadata": {
    "application/vnd.databricks.v1+cell": {
     "cellMetadata": {
      "byteLimit": 2048000,
      "rowLimit": 10000
     },
     "inputWidgets": {},
     "nuid": "1127c820-630c-4357-b74e-847bf3590689",
     "showTitle": false,
     "title": ""
    }
   },
   "outputs": [
    {
     "output_type": "stream",
     "name": "stdout",
     "output_type": "stream",
     "text": [
      "For trainingDataTransformed:\nNumber of Rows: 143995, Number of Columns: 21\nFor dataWithZeroReviewTransformed:\nNumber of Rows: 40989, Number of Columns: 31\n"
     ]
    }
   ],
   "source": [
    "# See the count of each dataset to get an understanding on sizes:\n",
    "num_rows = trainingDataTransformed.count()\n",
    "num_columns = len(trainingDataTransformed.first())\n",
    "\n",
    "print(\"For trainingDataTransformed:\")\n",
    "print(f\"Number of Rows: {num_rows}, Number of Columns: {num_columns}\")\n",
    "\n",
    "num_rows = dataWithZeroReviewTransformed.count()\n",
    "num_columns = len(dataWithZeroReviewTransformed.first())\n",
    "\n",
    "print(\"For dataWithZeroReviewTransformed:\")\n",
    "print(f\"Number of Rows: {num_rows}, Number of Columns: {num_columns}\")"
   ]
  },
  {
   "cell_type": "markdown",
   "metadata": {
    "application/vnd.databricks.v1+cell": {
     "cellMetadata": {
      "byteLimit": 2048000,
      "rowLimit": 10000
     },
     "inputWidgets": {},
     "nuid": "43a7c330-4b18-492c-84c1-60da6790c897",
     "showTitle": false,
     "title": ""
    }
   },
   "source": [
    "## Decision Tree Model"
   ]
  },
  {
   "cell_type": "code",
   "execution_count": 0,
   "metadata": {
    "application/vnd.databricks.v1+cell": {
     "cellMetadata": {
      "byteLimit": 2048000,
      "rowLimit": 10000
     },
     "inputWidgets": {},
     "nuid": "697edc4a-b03c-40a0-bfff-5f6c273a0460",
     "showTitle": false,
     "title": ""
    }
   },
   "outputs": [],
   "source": [
    "# Do the train test split - we need to discuss what are we settng for the threshold\n",
    "train_data,test_data = trainingDataTransformed.randomSplit([0.7,0.3], seed=42)"
   ]
  },
  {
   "cell_type": "code",
   "execution_count": 0,
   "metadata": {
    "application/vnd.databricks.v1+cell": {
     "cellMetadata": {
      "byteLimit": 2048000,
      "rowLimit": 10000
     },
     "inputWidgets": {},
     "nuid": "229d0fe2-3820-4fd5-bafc-3a9c54aad7eb",
     "showTitle": false,
     "title": ""
    }
   },
   "outputs": [],
   "source": [
    "# Decision Tree model \n",
    "dtc = DecisionTreeClassifier(labelCol='target_label',featuresCol='features',maxBins = 2432)"
   ]
  },
  {
   "cell_type": "code",
   "execution_count": 0,
   "metadata": {
    "application/vnd.databricks.v1+cell": {
     "cellMetadata": {
      "byteLimit": 2048000,
      "rowLimit": 10000
     },
     "inputWidgets": {},
     "nuid": "fda2d223-14fa-403e-afb0-6da7293bf37f",
     "showTitle": false,
     "title": ""
    }
   },
   "outputs": [],
   "source": [
    "# Fit to the train_data\n",
    "dtc_model = dtc.fit(train_data)"
   ]
  },
  {
   "cell_type": "code",
   "execution_count": 0,
   "metadata": {
    "application/vnd.databricks.v1+cell": {
     "cellMetadata": {
      "byteLimit": 2048000,
      "rowLimit": 10000
     },
     "inputWidgets": {},
     "nuid": "2dcd4fbb-d7fb-4d9a-a881-a80437f845b1",
     "showTitle": false,
     "title": ""
    }
   },
   "outputs": [],
   "source": [
    "# Get the predictions for the test_data, which is the data with the ground truth known\n",
    "dtc_predictions = dtc_model.transform(test_data)"
   ]
  },
  {
   "cell_type": "code",
   "execution_count": 0,
   "metadata": {
    "application/vnd.databricks.v1+cell": {
     "cellMetadata": {
      "byteLimit": 2048000,
      "rowLimit": 10000
     },
     "inputWidgets": {},
     "nuid": "a88f058a-9ef0-4e3f-a9fe-5d6cc0dc13ee",
     "showTitle": false,
     "title": ""
    }
   },
   "outputs": [],
   "source": [
    "acc_evaluator = MulticlassClassificationEvaluator(labelCol=\"target_label\", predictionCol=\"prediction\", metricName=\"accuracy\")"
   ]
  },
  {
   "cell_type": "code",
   "execution_count": 0,
   "metadata": {
    "application/vnd.databricks.v1+cell": {
     "cellMetadata": {
      "byteLimit": 2048000,
      "rowLimit": 10000
     },
     "inputWidgets": {},
     "nuid": "1c32c40b-b96c-4f43-a479-495e2bec4e1e",
     "showTitle": false,
     "title": ""
    }
   },
   "outputs": [],
   "source": [
    "dtc_acc = acc_evaluator.evaluate(dtc_predictions)"
   ]
  },
  {
   "cell_type": "code",
   "execution_count": 0,
   "metadata": {
    "application/vnd.databricks.v1+cell": {
     "cellMetadata": {
      "byteLimit": 2048000,
      "rowLimit": 10000
     },
     "inputWidgets": {},
     "nuid": "31a1d494-3acc-4b1c-afa5-92456b537af9",
     "showTitle": false,
     "title": ""
    }
   },
   "outputs": [
    {
     "output_type": "stream",
     "name": "stdout",
     "output_type": "stream",
     "text": [
      "A Decision Tree had an accuracy of: 57.54%\n"
     ]
    }
   ],
   "source": [
    "print('A Decision Tree had an accuracy of: {0:2.2f}%'.format(dtc_acc*100))"
   ]
  },
  {
   "cell_type": "code",
   "execution_count": 0,
   "metadata": {
    "application/vnd.databricks.v1+cell": {
     "cellMetadata": {
      "byteLimit": 2048000,
      "rowLimit": 10000
     },
     "inputWidgets": {},
     "nuid": "88c9331d-c99e-463a-aca7-2daeca09ced4",
     "showTitle": false,
     "title": ""
    }
   },
   "outputs": [
    {
     "output_type": "stream",
     "name": "stdout",
     "output_type": "stream",
     "text": [
      "+--------------------------------------------------------+------------+-----------------------+------------------------------------------------------------+----------+\n|features                                                |target_label|rawPrediction          |probability                                                 |prediction|\n+--------------------------------------------------------+------------+-----------------------+------------------------------------------------------------+----------+\n|[1.0,10.0,2.0,0.0,1.0,1.0,1.0,0.0,1.0,1.0,45.0,23.0,5.0]|0.0         |[17889.0,8116.0,203.0] |[0.6825778388278388,0.3096764346764347,0.007745726495726496]|0.0       |\n|[0.0,1.0,0.0,0.0,1.0,1.0,1.0,0.5,1.0,1.0,40.0,9.0,3.0]  |1.0         |[13104.0,9691.0,1715.0]|[0.5346389228886169,0.39538963688290496,0.06997144022847818]|0.0       |\n+--------------------------------------------------------+------------+-----------------------+------------------------------------------------------------+----------+\nonly showing top 2 rows\n\n"
     ]
    }
   ],
   "source": [
    "# Just seeing what is inside the rfc_predictions\n",
    "dtc_predictions.select(\"features\", \"target_label\", \"rawPrediction\", \"probability\", \"prediction\").show(truncate=False, n=2)"
   ]
  },
  {
   "cell_type": "markdown",
   "metadata": {
    "application/vnd.databricks.v1+cell": {
     "cellMetadata": {
      "byteLimit": 2048000,
      "rowLimit": 10000
     },
     "inputWidgets": {},
     "nuid": "64f33248-b9b1-4d74-8cf5-1882227f347e",
     "showTitle": false,
     "title": ""
    }
   },
   "source": [
    "## Model Evaluation"
   ]
  },
  {
   "cell_type": "code",
   "execution_count": 0,
   "metadata": {
    "application/vnd.databricks.v1+cell": {
     "cellMetadata": {
      "byteLimit": 2048000,
      "rowLimit": 10000
     },
     "inputWidgets": {},
     "nuid": "6c297d46-eb39-4d5a-825b-b17bf130ac1f",
     "showTitle": false,
     "title": ""
    }
   },
   "outputs": [
    {
     "output_type": "stream",
     "name": "stdout",
     "output_type": "stream",
     "text": [
      "Test Accuracy = 0.575379\n+------------+-----+----+---+---+\n|target_label|    0|   1|  2|  3|\n+------------+-----+----+---+---+\n|         0.0|15637|5449| 91|  0|\n|         1.0| 9763|9068| 24|  0|\n|         2.0| 1145|1830| 95|  0|\n+------------+-----+----+---+---+\n\n"
     ]
    }
   ],
   "source": [
    "from pyspark.ml.evaluation import MulticlassClassificationEvaluator\n",
    "\n",
    "evaluator = MulticlassClassificationEvaluator(labelCol=\"target_label\", predictionCol=\"prediction\", metricName=\"accuracy\")\n",
    "accuracy = evaluator.evaluate(dtc_predictions)\n",
    "print(\"Test Accuracy = %g\" % (accuracy))\n",
    "\n",
    "from pyspark.sql.functions import col\n",
    "\n",
    "# Count predictions\n",
    "confusion_matrix = dtc_predictions.groupBy('target_label').pivot('prediction', [0,1,2,3]).count().na.fill(0).orderBy('target_label')\n",
    "confusion_matrix.show()"
   ]
  },
  {
   "cell_type": "markdown",
   "metadata": {
    "application/vnd.databricks.v1+cell": {
     "cellMetadata": {
      "byteLimit": 2048000,
      "rowLimit": 10000
     },
     "inputWidgets": {},
     "nuid": "57c290dc-a19d-45de-9676-319e237706bf",
     "showTitle": false,
     "title": ""
    }
   },
   "source": [
    "## Hyperparameter Tuning"
   ]
  },
  {
   "cell_type": "code",
   "execution_count": 0,
   "metadata": {
    "application/vnd.databricks.v1+cell": {
     "cellMetadata": {
      "byteLimit": 2048000,
      "rowLimit": 10000
     },
     "inputWidgets": {},
     "nuid": "21d0284d-2e33-4f8a-bc29-35dcf9491807",
     "showTitle": false,
     "title": ""
    }
   },
   "outputs": [
    {
     "output_type": "stream",
     "name": "stdout",
     "output_type": "stream",
     "text": [
      "Test set Accuracy = 0.5846364437845112\nBest Param (maxDepth): 10\nBest Param (maxBins): 1024\nBest Param (minInstancesPerNode): 4\n"
     ]
    }
   ],
   "source": [
    "from pyspark.ml.tuning import ParamGridBuilder, CrossValidator\n",
    "from pyspark.ml.evaluation import MulticlassClassificationEvaluator\n",
    "from pyspark.ml.tuning import TrainValidationSplit\n",
    "\n",
    "# Initialize the DecisionTreeClassifier\n",
    "dtc = DecisionTreeClassifier(labelCol='target_label', featuresCol='features', maxBins=2432)\n",
    "\n",
    "\n",
    "# Create the parameter grid\n",
    "paramGrid = ParamGridBuilder() \\\n",
    "    .addGrid(dtc.maxDepth, [5, 10, 20]) \\\n",
    "    .addGrid(dtc.maxBins, [1024, 2048, 2432]) \\\n",
    "    .addGrid(dtc.minInstancesPerNode, [1, 2, 4]) \\\n",
    "    .build()\n",
    "\n",
    "# Create the evaluator\n",
    "evaluator = MulticlassClassificationEvaluator(labelCol=\"target_label\", predictionCol=\"prediction\", metricName=\"accuracy\")\n",
    "\n",
    "#Create the CrossValidator\n",
    "cv = CrossValidator(estimator=dtc,\n",
    "                    estimatorParamMaps=paramGrid,\n",
    "                    evaluator=evaluator,\n",
    "                    numFolds=3,\n",
    "                    parallelism=4)  # Use 3+ folds in practice\n",
    "\n",
    "# cv = TrainValidationSplit(estimator=dtc,\n",
    "#                     estimatorParamMaps=paramGrid,\n",
    "#                     evaluator=evaluator,\n",
    "#                     trainRatio=0.8,\n",
    "#                     parallelism=4)  \n",
    "\n",
    "# Run cross-validation, and choose the best set of parameters.\n",
    "cvModel = cv.fit(train_data)\n",
    "\n",
    "# Make predictions on test data. cvModel uses the best model found.\n",
    "prediction = cvModel.transform(test_data)\n",
    "\n",
    "# Evaluate the best model's performance\n",
    "#f1_score = evaluator.evaluate(prediction)\n",
    "acc = acc_evaluator.evaluate(prediction)\n",
    "print(\"Test set Accuracy = \" + str(acc))\n",
    "\n",
    "# Print best model's parameters\n",
    "bestModel = cvModel.bestModel\n",
    "print(f\"Best Param (maxDepth): {bestModel.getMaxDepth()}\")\n",
    "print(f\"Best Param (maxBins): {bestModel.getMaxBins()}\")\n",
    "print(f\"Best Param (minInstancesPerNode): {bestModel.getMinInstancesPerNode()}\")"
   ]
  },
  {
   "cell_type": "code",
   "execution_count": 0,
   "metadata": {
    "application/vnd.databricks.v1+cell": {
     "cellMetadata": {
      "byteLimit": 2048000,
      "rowLimit": 10000
     },
     "inputWidgets": {},
     "nuid": "f3714d7d-0a42-432b-971e-055dbcb24098",
     "showTitle": false,
     "title": ""
    }
   },
   "outputs": [
    {
     "output_type": "stream",
     "name": "stdout",
     "output_type": "stream",
     "text": [
      "Best model's parameters:\n - maxDepth: 10\n - maxBins: 1024\n - minInstancesPerNode: 4\n"
     ]
    }
   ],
   "source": [
    "# Get the best model from CrossValidator\n",
    "bestModel = cvModel.bestModel\n",
    "\n",
    "# Print the parameters of the best model\n",
    "print(\"Best model's parameters:\")\n",
    "print(f\" - maxDepth: {bestModel._java_obj.getMaxDepth()}\")\n",
    "print(f\" - maxBins: {bestModel._java_obj.getMaxBins()}\")\n",
    "print(f\" - minInstancesPerNode: {bestModel._java_obj.getMinInstancesPerNode()}\")"
   ]
  },
  {
   "cell_type": "code",
   "execution_count": 0,
   "metadata": {
    "application/vnd.databricks.v1+cell": {
     "cellMetadata": {
      "byteLimit": 2048000,
      "rowLimit": 10000
     },
     "inputWidgets": {},
     "nuid": "be09d021-1faa-4a18-9857-61db36f800f8",
     "showTitle": false,
     "title": ""
    }
   },
   "outputs": [
    {
     "output_type": "stream",
     "name": "stdout",
     "output_type": "stream",
     "text": [
      "Test Accuracy: 0.5846364437845112\n+------------+-----+-----+---+---+\n|target_label|    0|    1|  2|  3|\n+------------+-----+-----+---+---+\n|         0.0|13673| 7368|136|  0|\n|         1.0| 7414|11358| 83|  0|\n|         2.0| 1129| 1773|168|  0|\n+------------+-----+-----+---+---+\n\n"
     ]
    }
   ],
   "source": [
    "# Use the best model found by CrossValidator to make predictions on the test data\n",
    "predictions = cvModel.transform(test_data)\n",
    "\n",
    "# Evaluate the model's accuracy on the test data\n",
    "evaluator = MulticlassClassificationEvaluator(labelCol=\"target_label\", predictionCol=\"prediction\", metricName=\"accuracy\")\n",
    "\n",
    "# Compute the accuracy on the test data\n",
    "accuracy = evaluator.evaluate(predictions)\n",
    "print(f\"Test Accuracy: {accuracy}\")\n",
    "\n",
    "# Generate confusion matrix\n",
    "confusion_matrix = predictions.groupBy('target_label').pivot('prediction', [0, 1, 2, 3]).count().na.fill(0).orderBy('target_label')\n",
    "confusion_matrix.show()\n"
   ]
  },
  {
   "cell_type": "markdown",
   "metadata": {
    "application/vnd.databricks.v1+cell": {
     "cellMetadata": {
      "byteLimit": 2048000,
      "rowLimit": 10000
     },
     "inputWidgets": {},
     "nuid": "671ea319-f912-47c0-9a3b-71cbf1a72144",
     "showTitle": false,
     "title": ""
    }
   },
   "source": [
    "## Feature Importance"
   ]
  },
  {
   "cell_type": "code",
   "execution_count": 0,
   "metadata": {
    "application/vnd.databricks.v1+cell": {
     "cellMetadata": {
      "byteLimit": 2048000,
      "rowLimit": 10000
     },
     "inputWidgets": {},
     "nuid": "1db604b9-5c56-4ddb-92dd-427a24da4277",
     "showTitle": false,
     "title": ""
    }
   },
   "outputs": [
    {
     "output_type": "stream",
     "name": "stdout",
     "output_type": "stream",
     "text": [
      "Feature: host_total_listings_count, Importance: 0.4540122628724092\nFeature: host_is_superhost_indexed, Importance: 0.35078256414234965\nFeature: city_indexed, Importance: 0.10679688079730425\nFeature: amenities_count, Importance: 0.07509002881789208\nFeature: accommodates, Importance: 0.007483410680839813\nFeature: price, Importance: 0.004426116011160739\nFeature: essential_amenities, Importance: 0.0014087366780441428\n"
     ]
    }
   ],
   "source": [
    "from pyspark.ml.feature import StringIndexer, VectorAssembler\n",
    "from pyspark.ml.classification import DecisionTreeClassifier\n",
    "from pyspark.ml import Pipeline\n",
    "\n",
    "# Defining string features and numeric features\n",
    "stringFeatures = ['host_is_superhost', 'city', 'room_type', 'full_time_host', 'host_verifications_clean']\n",
    "numericFeatures = ['host_total_listings_count', 'accommodates', 'num_bath', 'bedrooms', 'beds', 'price', 'amenities_count', 'essential_amenities']\n",
    "\n",
    "# Create StringIndexer stages for the string features\n",
    "indexers = [StringIndexer(inputCol=column, outputCol=column+\"_indexed\", stringOrderType=\"alphabetAsc\").setHandleInvalid(\"skip\")\n",
    "            for column in stringFeatures]\n",
    "\n",
    "# Create a StringIndexer for the target column and name it as target_label\n",
    "labelIndexer = StringIndexer(inputCol='target', outputCol='target_label').setHandleInvalid(\"skip\")\n",
    "\n",
    "# Create VectorAssembler to combine feature columns into a single features column\n",
    "assemblerInputs = [column+\"_indexed\" for column in stringFeatures] + numericFeatures\n",
    "assembler = VectorAssembler(inputCols=assemblerInputs, outputCol=\"features\")\n",
    "\n",
    "# Decision Tree Classifier - note the labelCol now matches the output of labelIndexer\n",
    "dtc = DecisionTreeClassifier(labelCol=\"target_label\", featuresCol=\"features\")\n",
    "\n",
    "# Building the pipeline with all components including labelIndexer\n",
    "pipeline = Pipeline(stages=indexers + [labelIndexer, assembler, dtc])\n",
    "\n",
    "# Fit the pipeline on the data with reviews\n",
    "pipelineModel = pipeline.fit(data_with_review)\n",
    "\n",
    "# Extract the Decision Tree model from the pipeline\n",
    "dtcModel = pipelineModel.stages[-1]  # Adjust the index if necessary based on the stages\n",
    "\n",
    "# Extract and show feature importances\n",
    "importances = dtcModel.featureImportances\n",
    "features = assemblerInputs  # List of feature names\n",
    "importance_list = [(features[i], importances[i]) for i in range(len(importances)) if importances[i] > 0]\n",
    "sorted_importance = sorted(importance_list, key=lambda x: x[1], reverse=True)\n",
    "\n",
    "# Print the feature importances\n",
    "for feature, importance in sorted_importance:\n",
    "    print(f\"Feature: {feature}, Importance: {importance}\")\n"
   ]
  },
  {
   "cell_type": "code",
   "execution_count": 0,
   "metadata": {
    "application/vnd.databricks.v1+cell": {
     "cellMetadata": {
      "byteLimit": 2048000,
      "rowLimit": 10000
     },
     "inputWidgets": {},
     "nuid": "c70925cd-1b98-44aa-a0d2-3b2b6e7ff503",
     "showTitle": false,
     "title": ""
    }
   },
   "outputs": [
    {
     "output_type": "display_data",
     "data": {
      "image/png": "[encoded data removed]",
      "text/plain": [
       "<Figure size 1000x600 with 1 Axes>"
      ]
     },
     "metadata": {},
     "output_type": "display_data"
    }
   ],
   "source": [
    "import matplotlib.pyplot as plt\n",
    "import pandas as pd\n",
    "\n",
    "# Assuming 'sorted_importance' is a list of tuples where each tuple is (feature_name, importance)\n",
    "# Example: [('feature1', 0.2), ('feature2', 0.15), ...]\n",
    "\n",
    "# Convert list to DataFrame for easier plotting\n",
    "df_importance = pd.DataFrame(sorted_importance, columns=['Feature', 'Importance'])\n",
    "\n",
    "# Sort the DataFrame by importance\n",
    "df_importance.sort_values(by='Importance', ascending=True, inplace=True)\n",
    "\n",
    "# Plotting\n",
    "plt.figure(figsize=(10, 6))  # Set the figure size as needed\n",
    "plt.barh(df_importance['Feature'], df_importance['Importance'], color='skyblue')\n",
    "plt.xlabel('Importance')\n",
    "plt.title('Feature Importance')\n",
    "plt.show()\n"
   ]
  },
  {
   "cell_type": "markdown",
   "metadata": {
    "application/vnd.databricks.v1+cell": {
     "cellMetadata": {
      "byteLimit": 2048000,
      "rowLimit": 10000
     },
     "inputWidgets": {},
     "nuid": "001bb437-c925-4b97-ac85-224848a38f7b",
     "showTitle": false,
     "title": ""
    }
   },
   "source": [
    "## Create Model with Top 10 Features"
   ]
  },
  {
   "cell_type": "code",
   "execution_count": 0,
   "metadata": {
    "application/vnd.databricks.v1+cell": {
     "cellMetadata": {
      "byteLimit": 2048000,
      "rowLimit": 10000
     },
     "inputWidgets": {},
     "nuid": "ba7b9b77-9b72-48e4-b76c-ac3a9f0750fa",
     "showTitle": false,
     "title": ""
    }
   },
   "outputs": [
    {
     "output_type": "stream",
     "name": "stdout",
     "output_type": "stream",
     "text": [
      "Model accuracy:  0.5806312719191639\n"
     ]
    }
   ],
   "source": [
    "# Selecting top important features\n",
    "top_features = [feature for feature, importance in sorted_importance[:10]]\n",
    "# Assuming 'data_with_review' is your DataFrame and has all the necessary columns\n",
    "\n",
    "#Create a StringIndexer for the target column and naming it as target_label after converting it to numeric\n",
    "labelIndexer = StringIndexer(inputCol='target', outputCol='target_label').setHandleInvalid(\"skip\")\n",
    "\n",
    "\n",
    "# Indexers for categorical features included in important features list\n",
    "indexers = [\n",
    "    StringIndexer(inputCol='host_is_superhost', outputCol='host_is_superhost_indexed').setHandleInvalid(\"skip\"),\n",
    "    StringIndexer(inputCol='city', outputCol='city_indexed').setHandleInvalid(\"skip\")\n",
    "]\n",
    "\n",
    "# Assembler for combining feature columns\n",
    "assembler = VectorAssembler(inputCols=top_features, outputCol=\"features\")\n",
    "\n",
    "# Label indexer for the target column\n",
    "label_indexer = StringIndexer(inputCol=\"target\", outputCol=\"target_label\").setHandleInvalid(\"skip\")\n",
    "\n",
    "# Decision Tree Classifier\n",
    "dtc = DecisionTreeClassifier(labelCol=\"target_label\", featuresCol=\"features\")\n",
    "\n",
    "# Building the pipeline with all necessary components\n",
    "pipeline = Pipeline(stages=indexers + [label_indexer, assembler, dtc])\n",
    "\n",
    "# Fit the pipeline on the training data\n",
    "model = pipeline.fit(data_with_review)\n",
    "\n",
    "# Make predictions and evaluate the model\n",
    "predictions = model.transform(data_with_review)\n",
    "evaluator = MulticlassClassificationEvaluator(labelCol=\"target_label\", predictionCol=\"prediction\", metricName=\"accuracy\")\n",
    "accuracy = evaluator.evaluate(predictions)\n",
    "print(\"Model accuracy: \", accuracy)\n",
    "\n"
   ]
  },
  {
   "cell_type": "markdown",
   "metadata": {
    "application/vnd.databricks.v1+cell": {
     "cellMetadata": {
      "byteLimit": 2048000,
      "rowLimit": 10000
     },
     "inputWidgets": {},
     "nuid": "124fb744-0008-47c3-b7f8-9e19b0605496",
     "showTitle": false,
     "title": ""
    }
   },
   "source": [
    "## Hyperparameter"
   ]
  },
  {
   "cell_type": "code",
   "execution_count": 0,
   "metadata": {
    "application/vnd.databricks.v1+cell": {
     "cellMetadata": {
      "byteLimit": 2048000,
      "rowLimit": 10000
     },
     "inputWidgets": {},
     "nuid": "8f1069c0-cf44-4e60-9d8e-ca234d13ddee",
     "showTitle": false,
     "title": ""
    }
   },
   "outputs": [
    {
     "output_type": "stream",
     "name": "stdout",
     "output_type": "stream",
     "text": [
      "Test set Accuracy = 0.5846364437845112\nBest Param (maxDepth): 10\nBest Param (maxBins): 1024\nBest Param (minInstancesPerNode): 4\n"
     ]
    }
   ],
   "source": [
    "from pyspark.ml.tuning import ParamGridBuilder, CrossValidator\n",
    "from pyspark.ml.evaluation import MulticlassClassificationEvaluator\n",
    "from pyspark.ml.tuning import TrainValidationSplit\n",
    "\n",
    "# Initialize the DecisionTreeClassifier\n",
    "dtc = DecisionTreeClassifier(labelCol='target_label', featuresCol='features', maxBins=2432)\n",
    "\n",
    "\n",
    "# Create the parameter grid\n",
    "paramGrid = ParamGridBuilder() \\\n",
    "    .addGrid(dtc.maxDepth, [5, 10, 20]) \\\n",
    "    .addGrid(dtc.maxBins, [1024, 2048, 2432]) \\\n",
    "    .addGrid(dtc.minInstancesPerNode, [1, 2, 4]) \\\n",
    "    .build()\n",
    "\n",
    "# Create the evaluator\n",
    "evaluator = MulticlassClassificationEvaluator(labelCol=\"target_label\", predictionCol=\"prediction\", metricName=\"accuracy\")\n",
    "\n",
    "#Create the CrossValidator\n",
    "cv = CrossValidator(estimator=dtc,\n",
    "                    estimatorParamMaps=paramGrid,\n",
    "                    evaluator=evaluator,\n",
    "                    numFolds=3,\n",
    "                    parallelism=4)  # Use 3+ folds in practice\n",
    "\n",
    "# cv = TrainValidationSplit(estimator=dtc,\n",
    "#                     estimatorParamMaps=paramGrid,\n",
    "#                     evaluator=evaluator,\n",
    "#                     trainRatio=0.8,\n",
    "#                     parallelism=4)  \n",
    "\n",
    "# Run cross-validation, and choose the best set of parameters.\n",
    "cvModel2 = cv.fit(train_data)\n",
    "\n",
    "# Make predictions on test data. cvModel uses the best model found.\n",
    "prediction = cvModel2.transform(test_data)\n",
    "\n",
    "# Evaluate the best model's performance\n",
    "#f1_score = evaluator.evaluate(prediction)\n",
    "acc = acc_evaluator.evaluate(prediction)\n",
    "print(\"Test set Accuracy = \" + str(acc))\n",
    "\n",
    "# Print best model's parameters\n",
    "bestModel = cvModel.bestModel\n",
    "print(f\"Best Param (maxDepth): {bestModel.getMaxDepth()}\")\n",
    "print(f\"Best Param (maxBins): {bestModel.getMaxBins()}\")\n",
    "print(f\"Best Param (minInstancesPerNode): {bestModel.getMinInstancesPerNode()}\")"
   ]
  },
  {
   "cell_type": "code",
   "execution_count": 0,
   "metadata": {
    "application/vnd.databricks.v1+cell": {
     "cellMetadata": {
      "byteLimit": 2048000,
      "rowLimit": 10000
     },
     "inputWidgets": {},
     "nuid": "cf675280-cd89-4f3e-b760-edc4d145b09c",
     "showTitle": false,
     "title": ""
    }
   },
   "outputs": [
    {
     "output_type": "stream",
     "name": "stdout",
     "output_type": "stream",
     "text": [
      "Best model's parameters:\n - maxDepth: 10\n - maxBins: 1024\n - minInstancesPerNode: 4\n"
     ]
    }
   ],
   "source": [
    "# Get the best model from CrossValidator\n",
    "bestModel = cvModel2.bestModel\n",
    "\n",
    "# Print the parameters of the best model\n",
    "print(\"Best model's parameters:\")\n",
    "print(f\" - maxDepth: {bestModel._java_obj.getMaxDepth()}\")\n",
    "print(f\" - maxBins: {bestModel._java_obj.getMaxBins()}\")\n",
    "print(f\" - minInstancesPerNode: {bestModel._java_obj.getMinInstancesPerNode()}\")"
   ]
  },
  {
   "cell_type": "code",
   "execution_count": 0,
   "metadata": {
    "application/vnd.databricks.v1+cell": {
     "cellMetadata": {
      "byteLimit": 2048000,
      "rowLimit": 10000
     },
     "inputWidgets": {},
     "nuid": "c7f11873-10e0-49c0-9ad6-6f54afa9a1a8",
     "showTitle": false,
     "title": ""
    }
   },
   "outputs": [
    {
     "output_type": "stream",
     "name": "stdout",
     "output_type": "stream",
     "text": [
      "Test Accuracy: 0.5846364437845112\n+------------+-----+-----+---+---+\n|target_label|    0|    1|  2|  3|\n+------------+-----+-----+---+---+\n|         0.0|13673| 7368|136|  0|\n|         1.0| 7414|11358| 83|  0|\n|         2.0| 1129| 1773|168|  0|\n+------------+-----+-----+---+---+\n\n"
     ]
    }
   ],
   "source": [
    "# Use the best model found by CrossValidator to make predictions on the test data\n",
    "predictions = cvModel2.transform(test_data)\n",
    "\n",
    "# Evaluate the model's accuracy on the test data\n",
    "evaluator = MulticlassClassificationEvaluator(labelCol=\"target_label\", predictionCol=\"prediction\", metricName=\"accuracy\")\n",
    "\n",
    "# Compute the accuracy on the test data\n",
    "accuracy = evaluator.evaluate(predictions)\n",
    "print(f\"Test Accuracy: {accuracy}\")\n",
    "\n",
    "# Generate confusion matrix\n",
    "confusion_matrix = predictions.groupBy('target_label').pivot('prediction', [0, 1, 2, 3]).count().na.fill(0).orderBy('target_label')\n",
    "confusion_matrix.show()"
   ]
  },
  {
   "cell_type": "markdown",
   "metadata": {
    "application/vnd.databricks.v1+cell": {
     "cellMetadata": {
      "byteLimit": 2048000,
      "rowLimit": 10000
     },
     "inputWidgets": {},
     "nuid": "5f51ff80-156a-4246-88e0-a0879542858a",
     "showTitle": false,
     "title": ""
    }
   },
   "source": [
    "## Applying Model on 0 Review Listings with Best Performing Model"
   ]
  },
  {
   "cell_type": "code",
   "execution_count": 0,
   "metadata": {
    "application/vnd.databricks.v1+cell": {
     "cellMetadata": {
      "byteLimit": 2048000,
      "rowLimit": 10000
     },
     "inputWidgets": {},
     "nuid": "65afe77f-bf57-403b-b806-6a06b8b244b3",
     "showTitle": false,
     "title": ""
    }
   },
   "outputs": [],
   "source": [
    "# Applying the trained Random Forest model to the prediction dataset - the hold out zero reviews data\n",
    "zeroReviewPredictions = cvModel2.transform(dataWithZeroReviewTransformed)"
   ]
  },
  {
   "cell_type": "code",
   "execution_count": 0,
   "metadata": {
    "application/vnd.databricks.v1+cell": {
     "cellMetadata": {
      "byteLimit": 2048000,
      "rowLimit": 10000
     },
     "inputWidgets": {},
     "nuid": "eddfe625-7ebe-444f-afd8-5eb948fc3a2b",
     "showTitle": false,
     "title": ""
    }
   },
   "outputs": [
    {
     "output_type": "stream",
     "name": "stdout",
     "output_type": "stream",
     "text": [
      "+----------------------------------------------------------+----------------------+-------------------------------------------------------------+----------+\n|features                                                  |rawPrediction         |probability                                                  |prediction|\n+----------------------------------------------------------+----------------------+-------------------------------------------------------------+----------+\n|[0.0,1.0,0.0,0.0,7.0,3.0,2.0,1.0,1.0,1.0,222.0,10.0,3.0]  |[390.0,297.0,121.0]   |[0.48267326732673266,0.36757425742574257,0.14975247524752475]|0.0       |\n|[0.0,1.0,2.0,0.0,1.0,112.0,2.0,2.0,2.0,4.0,500.0,29.0,3.0]|[3438.0,9315.0,1827.0]|[0.23580246913580247,0.6388888888888888,0.12530864197530864] |1.0       |\n|[0.0,1.0,0.0,0.0,4.0,6.0,16.0,4.0,6.0,12.0,868.0,68.0,5.0]|[8.0,1.0,0.0]         |[0.8888888888888888,0.1111111111111111,0.0]                  |0.0       |\n|[0.0,1.0,2.0,0.0,1.0,3.0,2.0,1.0,1.0,2.0,47.0,14.0,3.0]   |[272.0,375.0,86.0]    |[0.3710777626193724,0.5115961800818554,0.11732605729877217]  |1.0       |\n|[1.0,1.0,0.0,0.0,1.0,465.0,5.0,1.0,2.0,4.0,629.0,24.0,4.0]|[3.0,0.0,2.0]         |[0.6,0.0,0.4]                                                |0.0       |\n+----------------------------------------------------------+----------------------+-------------------------------------------------------------+----------+\nonly showing top 5 rows\n\n"
     ]
    }
   ],
   "source": [
    "# Displaying predictions, probabilities, and features\n",
    "zeroReviewPredictions.select(\"features\", \"rawPrediction\", \"probability\", \"prediction\").show(truncate=False, n=5)"
   ]
  },
  {
   "cell_type": "code",
   "execution_count": 0,
   "metadata": {
    "application/vnd.databricks.v1+cell": {
     "cellMetadata": {
      "byteLimit": 2048000,
      "rowLimit": 10000
     },
     "inputWidgets": {},
     "nuid": "aac29545-4814-4444-ba84-fdaf89297964",
     "showTitle": false,
     "title": ""
    }
   },
   "outputs": [
    {
     "output_type": "display_data",
     "data": {
      "text/html": [
       "<style scoped>\n",
       "  .ansiout {\n",
       "    display: block;\n",
       "    unicode-bidi: embed;\n",
       "    white-space: pre-wrap;\n",
       "    word-wrap: break-word;\n",
       "    word-break: break-all;\n",
       "    font-family: \"Menlo\", \"Monaco\", \"Consolas\", \"Ubuntu Mono\", \"Source Code Pro\", monospace;\n",
       "    font-size: 13px;\n",
       "    color: #555;\n",
       "    margin-left: 4px;\n",
       "    line-height: 19px;\n",
       "  }\n",
       "</style>"
      ]
     },
     "metadata": {
      "application/vnd.databricks.v1+output": {
       "arguments": {},
       "data": "",
       "errorSummary": "Command skipped",
       "errorTraceType": "html",
       "metadata": {},
       "type": "ipynbError"
      }
     },
     "output_type": "display_data"
    }
   ],
   "source": [
    "spark.stop()"
   ]
  }
 ],
 "metadata": {
  "application/vnd.databricks.v1+notebook": {
   "dashboards": [],
   "language": "python",
   "notebookMetadata": {
    "pythonIndentUnit": 4
   },
   "notebookName": "milestone4-dt",
   "widgets": {}
  },
  "kernelspec": {
   "display_name": "Python 3",
   "language": "python",
   "name": "python3"
  },
  "language_info": {
   "codemirror_mode": {
    "name": "ipython",
    "version": 3
   },
   "file_extension": ".py",
   "mimetype": "text/x-python",
   "name": "python",
   "nbconvert_exporter": "python",
   "pygments_lexer": "ipython3",
   "version": "3.8.15"
  }
 },
 "nbformat": 4,
 "nbformat_minor": 0
}
